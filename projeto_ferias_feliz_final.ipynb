{
 "cells": [
  {
   "cell_type": "code",
   "execution_count": 2,
   "id": "48ef291d",
   "metadata": {},
   "outputs": [
    {
     "name": "stdout",
     "output_type": "stream",
     "text": [
      "Note: you may need to restart the kernel to use updated packages.\n"
     ]
    },
    {
     "name": "stderr",
     "output_type": "stream",
     "text": [
      "\n",
      "[notice] A new release of pip is available: 24.0 -> 25.2\n",
      "[notice] To update, run: C:\\Users\\lcard\\AppData\\Local\\Microsoft\\WindowsApps\\PythonSoftwareFoundation.Python.3.11_qbz5n2kfra8p0\\python.exe -m pip install --upgrade pip\n"
     ]
    }
   ],
   "source": [
    "pip install matplotlib -q"
   ]
  },
  {
   "cell_type": "code",
   "execution_count": null,
   "id": "98df65d6",
   "metadata": {},
   "outputs": [],
   "source": [
    "# importando as bibliotecas\n",
    "import pandas as pd\n",
    "import numpy as np\n",
    "import matplotlib.pyplot as plt"
   ]
  },
  {
   "cell_type": "code",
   "execution_count": null,
   "id": "4c88e0f3",
   "metadata": {},
   "outputs": [
    {
     "data": {
      "text/html": [
       "<div>\n",
       "<style scoped>\n",
       "    .dataframe tbody tr th:only-of-type {\n",
       "        vertical-align: middle;\n",
       "    }\n",
       "\n",
       "    .dataframe tbody tr th {\n",
       "        vertical-align: top;\n",
       "    }\n",
       "\n",
       "    .dataframe thead th {\n",
       "        text-align: right;\n",
       "    }\n",
       "</style>\n",
       "<table border=\"1\" class=\"dataframe\">\n",
       "  <thead>\n",
       "    <tr style=\"text-align: right;\">\n",
       "      <th></th>\n",
       "      <th>ï»¿Regiao - Sigla</th>\n",
       "      <th>Estado - Sigla</th>\n",
       "      <th>Municipio</th>\n",
       "      <th>Revenda</th>\n",
       "      <th>CNPJ da Revenda</th>\n",
       "      <th>Nome da Rua</th>\n",
       "      <th>Numero Rua</th>\n",
       "      <th>Complemento</th>\n",
       "      <th>Bairro</th>\n",
       "      <th>Cep</th>\n",
       "      <th>Produto</th>\n",
       "      <th>Data da Coleta</th>\n",
       "      <th>Valor de Venda</th>\n",
       "      <th>Valor de Compra</th>\n",
       "      <th>Unidade de Medida</th>\n",
       "      <th>Bandeira</th>\n",
       "    </tr>\n",
       "  </thead>\n",
       "  <tbody>\n",
       "    <tr>\n",
       "      <th>0</th>\n",
       "      <td>SE</td>\n",
       "      <td>SP</td>\n",
       "      <td>GUARULHOS</td>\n",
       "      <td>AUTO POSTO SAKAMOTO LTDA</td>\n",
       "      <td>49.051.667/0001-02</td>\n",
       "      <td>RODOVIA PRESIDENTE DUTRA</td>\n",
       "      <td>S/N</td>\n",
       "      <td>KM 210,5-SENT SP/RJ</td>\n",
       "      <td>BONSUCESSO</td>\n",
       "      <td>07178-580</td>\n",
       "      <td>GASOLINA</td>\n",
       "      <td>2004-05-11</td>\n",
       "      <td>1.967</td>\n",
       "      <td>1.6623</td>\n",
       "      <td>R$ / litro</td>\n",
       "      <td>PETROBRAS DISTRIBUIDORA S.A.</td>\n",
       "    </tr>\n",
       "  </tbody>\n",
       "</table>\n",
       "</div>"
      ],
      "text/plain": [
       "  ï»¿Regiao - Sigla Estado - Sigla  Municipio                   Revenda  \\\n",
       "0                SE             SP  GUARULHOS  AUTO POSTO SAKAMOTO LTDA   \n",
       "\n",
       "       CNPJ da Revenda               Nome da Rua Numero Rua  \\\n",
       "0   49.051.667/0001-02  RODOVIA PRESIDENTE DUTRA        S/N   \n",
       "\n",
       "           Complemento      Bairro        Cep   Produto Data da Coleta  \\\n",
       "0  KM 210,5-SENT SP/RJ  BONSUCESSO  07178-580  GASOLINA     2004-05-11   \n",
       "\n",
       "   Valor de Venda  Valor de Compra Unidade de Medida  \\\n",
       "0           1.967           1.6623        R$ / litro   \n",
       "\n",
       "                       Bandeira  \n",
       "0  PETROBRAS DISTRIBUIDORA S.A.  "
      ]
     },
     "execution_count": 16,
     "metadata": {},
     "output_type": "execute_result"
    }
   ],
   "source": [
    "# fazendo a leitura da base da polícia rodoviária federal e mostrando a 1º linha\n",
    "df_base = pd.read_csv('ca-2004-01.csv', sep=';', encoding= 'latin1')\n",
    "df_base['Valor de Venda'] = df_base['Valor de Venda'].str.replace(',', '.', regex=False).astype(float)\n",
    "df_base['Valor de Compra'] = df_base['Valor de Compra'].str.replace(',', '.', regex=False).astype(float)\n",
    "df_base['Data da Coleta'] = pd.to_datetime(df_base['Data da Coleta'], format='%d/%m/%Y')\n",
    "df_base.head(1)"
   ]
  },
  {
   "cell_type": "code",
   "execution_count": null,
   "id": "a39f7add",
   "metadata": {},
   "outputs": [
    {
     "data": {
      "text/html": [
       "<div>\n",
       "<style scoped>\n",
       "    .dataframe tbody tr th:only-of-type {\n",
       "        vertical-align: middle;\n",
       "    }\n",
       "\n",
       "    .dataframe tbody tr th {\n",
       "        vertical-align: top;\n",
       "    }\n",
       "\n",
       "    .dataframe thead th {\n",
       "        text-align: right;\n",
       "    }\n",
       "</style>\n",
       "<table border=\"1\" class=\"dataframe\">\n",
       "  <thead>\n",
       "    <tr style=\"text-align: right;\">\n",
       "      <th></th>\n",
       "      <th>ï»¿Regiao - Sigla</th>\n",
       "      <th>Estado - Sigla</th>\n",
       "      <th>Municipio</th>\n",
       "      <th>Revenda</th>\n",
       "      <th>CNPJ da Revenda</th>\n",
       "      <th>Nome da Rua</th>\n",
       "      <th>Numero Rua</th>\n",
       "      <th>Complemento</th>\n",
       "      <th>Bairro</th>\n",
       "      <th>Cep</th>\n",
       "      <th>Produto</th>\n",
       "      <th>Data da Coleta</th>\n",
       "      <th>Valor de Venda</th>\n",
       "      <th>Valor de Compra</th>\n",
       "      <th>Unidade de Medida</th>\n",
       "      <th>Bandeira</th>\n",
       "    </tr>\n",
       "  </thead>\n",
       "  <tbody>\n",
       "    <tr>\n",
       "      <th>0</th>\n",
       "      <td>SE</td>\n",
       "      <td>SP</td>\n",
       "      <td>GUARULHOS</td>\n",
       "      <td>AUTO POSTO SAKAMOTO LTDA</td>\n",
       "      <td>49.051.667/0001-02</td>\n",
       "      <td>RODOVIA PRESIDENTE DUTRA</td>\n",
       "      <td>S/N</td>\n",
       "      <td>KM 210,5-SENT SP/RJ</td>\n",
       "      <td>BONSUCESSO</td>\n",
       "      <td>07178-580</td>\n",
       "      <td>GASOLINA</td>\n",
       "      <td>2004-05-11</td>\n",
       "      <td>1.967</td>\n",
       "      <td>1.6623</td>\n",
       "      <td>R$ / litro</td>\n",
       "      <td>PETROBRAS DISTRIBUIDORA S.A.</td>\n",
       "    </tr>\n",
       "  </tbody>\n",
       "</table>\n",
       "</div>"
      ],
      "text/plain": [
       "  ï»¿Regiao - Sigla Estado - Sigla  Municipio                   Revenda  \\\n",
       "0                SE             SP  GUARULHOS  AUTO POSTO SAKAMOTO LTDA   \n",
       "\n",
       "       CNPJ da Revenda               Nome da Rua Numero Rua  \\\n",
       "0   49.051.667/0001-02  RODOVIA PRESIDENTE DUTRA        S/N   \n",
       "\n",
       "           Complemento      Bairro        Cep   Produto Data da Coleta  \\\n",
       "0  KM 210,5-SENT SP/RJ  BONSUCESSO  07178-580  GASOLINA     2004-05-11   \n",
       "\n",
       "   Valor de Venda  Valor de Compra Unidade de Medida  \\\n",
       "0           1.967           1.6623        R$ / litro   \n",
       "\n",
       "                       Bandeira  \n",
       "0  PETROBRAS DISTRIBUIDORA S.A.  "
      ]
     },
     "execution_count": 15,
     "metadata": {},
     "output_type": "execute_result"
    }
   ],
   "source": [
    "# selecionando o produto gasolina dentro da base\n",
    "df_gasolina = df_base.loc[df_base['Produto'] == 'GASOLINA']\n",
    "df_gasolina.head(1)"
   ]
  },
  {
   "cell_type": "code",
   "execution_count": null,
   "id": "d6950c2f",
   "metadata": {},
   "outputs": [
    {
     "name": "stdout",
     "output_type": "stream",
     "text": [
      "<class 'pandas.core.frame.DataFrame'>\n",
      "RangeIndex: 281531 entries, 0 to 281530\n",
      "Data columns (total 16 columns):\n",
      " #   Column             Non-Null Count   Dtype         \n",
      "---  ------             --------------   -----         \n",
      " 0   ï»¿Regiao - Sigla  281531 non-null  object        \n",
      " 1   Estado - Sigla     281531 non-null  object        \n",
      " 2   Municipio          281531 non-null  object        \n",
      " 3   Revenda            281531 non-null  object        \n",
      " 4   CNPJ da Revenda    281531 non-null  object        \n",
      " 5   Nome da Rua        281531 non-null  object        \n",
      " 6   Numero Rua         281358 non-null  object        \n",
      " 7   Complemento        92233 non-null   object        \n",
      " 8   Bairro             280713 non-null  object        \n",
      " 9   Cep                281531 non-null  object        \n",
      " 10  Produto            281531 non-null  object        \n",
      " 11  Data da Coleta     281531 non-null  datetime64[ns]\n",
      " 12  Valor de Venda     281531 non-null  float64       \n",
      " 13  Valor de Compra    195235 non-null  float64       \n",
      " 14  Unidade de Medida  281531 non-null  object        \n",
      " 15  Bandeira           281531 non-null  object        \n",
      "dtypes: datetime64[ns](1), float64(2), object(13)\n",
      "memory usage: 34.4+ MB\n"
     ]
    }
   ],
   "source": [
    "df_base.info() # gerando um guia de informação sobre a base"
   ]
  },
  {
   "cell_type": "code",
   "execution_count": null,
   "id": "f20ba8d0",
   "metadata": {},
   "outputs": [
    {
     "data": {
      "text/html": [
       "<div>\n",
       "<style scoped>\n",
       "    .dataframe tbody tr th:only-of-type {\n",
       "        vertical-align: middle;\n",
       "    }\n",
       "\n",
       "    .dataframe tbody tr th {\n",
       "        vertical-align: top;\n",
       "    }\n",
       "\n",
       "    .dataframe thead th {\n",
       "        text-align: right;\n",
       "    }\n",
       "</style>\n",
       "<table border=\"1\" class=\"dataframe\">\n",
       "  <thead>\n",
       "    <tr style=\"text-align: right;\">\n",
       "      <th></th>\n",
       "      <th>Municipio</th>\n",
       "      <th>Valor de Venda</th>\n",
       "    </tr>\n",
       "  </thead>\n",
       "  <tbody>\n",
       "    <tr>\n",
       "      <th>530</th>\n",
       "      <td>SAO PAULO</td>\n",
       "      <td>12206.490</td>\n",
       "    </tr>\n",
       "    <tr>\n",
       "      <th>463</th>\n",
       "      <td>RIO DE JANEIRO</td>\n",
       "      <td>6211.479</td>\n",
       "    </tr>\n",
       "    <tr>\n",
       "      <th>177</th>\n",
       "      <td>CURITIBA</td>\n",
       "      <td>2523.169</td>\n",
       "    </tr>\n",
       "    <tr>\n",
       "      <th>202</th>\n",
       "      <td>FORTALEZA</td>\n",
       "      <td>2267.654</td>\n",
       "    </tr>\n",
       "    <tr>\n",
       "      <th>87</th>\n",
       "      <td>BRASILIA</td>\n",
       "      <td>2243.055</td>\n",
       "    </tr>\n",
       "  </tbody>\n",
       "</table>\n",
       "</div>"
      ],
      "text/plain": [
       "          Municipio  Valor de Venda\n",
       "530       SAO PAULO       12206.490\n",
       "463  RIO DE JANEIRO        6211.479\n",
       "177        CURITIBA        2523.169\n",
       "202       FORTALEZA        2267.654\n",
       "87         BRASILIA        2243.055"
      ]
     },
     "execution_count": 8,
     "metadata": {},
     "output_type": "execute_result"
    }
   ],
   "source": [
    "# agrupando o valor de venda com os municípios\n",
    "df_gasolina_media_mun = df_gasolina.groupby(['Municipio'])['Valor de Venda'].sum().reset_index()\n",
    "df_gasolina_media_mun= df_gasolina_media_mun.sort_values(by='Valor de Venda',ascending= False)\n",
    "df_gasolina_media_mun.head(5)"
   ]
  },
  {
   "cell_type": "code",
   "execution_count": null,
   "id": "4fe0a0e4",
   "metadata": {},
   "outputs": [
    {
     "data": {
      "text/plain": [
       "array([1.967, 0.899, 1.299, ..., 1.41 , 1.49 , 1.44 ], shape=(281531,))"
      ]
     },
     "execution_count": 9,
     "metadata": {},
     "output_type": "execute_result"
    }
   ],
   "source": [
    "# fazendo um array dos valores de venda\n",
    "valores = np.array(df_base['Valor de Venda'])\n",
    "valores"
   ]
  },
  {
   "cell_type": "code",
   "execution_count": null,
   "id": "3dde66eb",
   "metadata": {},
   "outputs": [],
   "source": [
    "#encontrando os quartis\n",
    "q1 = np.percentile(valores, 25)\n",
    "q2 = np.percentile(valores, 50)\n",
    "q3 = np.percentile(valores,75)"
   ]
  },
  {
   "cell_type": "code",
   "execution_count": null,
   "id": "5d7d4c64",
   "metadata": {},
   "outputs": [
    {
     "name": "stdout",
     "output_type": "stream",
     "text": [
      "Primeiro quartil (q1): 1.25\n",
      "Segundo quartil (q2): 1.439\n",
      "Terceiro quartil (q3): 1.95\n"
     ]
    }
   ],
   "source": [
    "# informando os quartis\n",
    "print(f'Primeiro quartil (q1): {q1}')\n",
    "print(f'Segundo quartil (q2): {q2}')\n",
    "print(f'Terceiro quartil (q3): {q3}')"
   ]
  },
  {
   "cell_type": "code",
   "execution_count": null,
   "id": "85b79d6a",
   "metadata": {},
   "outputs": [
    {
     "name": "stdout",
     "output_type": "stream",
     "text": [
      "Média: 1.5256354309116937\n",
      "Mediana: 1.439\n",
      "Intervalo interquartil (IQR): 0.7\n",
      "Limite superior: 3.0\n",
      "Limite inferior: 0.20000000000000018\n",
      "Distância entre média e mediana: 0.06020530292681979\n"
     ]
    }
   ],
   "source": [
    "# dados estatísticos\n",
    "media = np.mean(valores)\n",
    "mediana = np.median(valores)\n",
    "iqr = q3 - q1\n",
    "limite_sup = q3 +(1.5 * iqr)\n",
    "limite_inf = q1 - (1.5 * iqr)\n",
    "distancia = (media - mediana)/mediana\n",
    "print(f'Média: {media}')\n",
    "print(f'Mediana: {mediana}')\n",
    "print(f'Intervalo interquartil (IQR): {iqr}')\n",
    "print(f'Limite superior: {limite_sup}')\n",
    "print(f'Limite inferior: {limite_inf}')\n",
    "print(f'Distância entre média e mediana: {distancia}')"
   ]
  },
  {
   "cell_type": "code",
   "execution_count": null,
   "id": "6d54e542",
   "metadata": {},
   "outputs": [
    {
     "data": {
      "image/png": "[encoded data removed]",
      "text/plain": [
       "<Figure size 640x480 with 1 Axes>"
      ]
     },
     "metadata": {},
     "output_type": "display_data"
    }
   ],
   "source": [
    "df_gasolina_media_mun_plot = df_gasolina_media_mun.head(10)  # Selecionando os 10 primeiros municípios com mais vendas\n",
    "df_gasolina_media_mun_plot.plot(kind = 'bar', x='Municipio',y='Valor de Venda')\n",
    "plt.xlabel('Municipio')\n",
    "plt.ylabel('Valor de Venda')\n",
    "plt.title('Preço da gasolina')\n",
    "plt.show()"
   ]
  },
  {
   "cell_type": "code",
   "execution_count": null,
   "id": "2351abf4",
   "metadata": {},
   "outputs": [
    {
     "data": {
      "text/plain": [
       "<function matplotlib.pyplot.show(close=None, block=None)>"
      ]
     },
     "execution_count": 14,
     "metadata": {},
     "output_type": "execute_result"
    },
    {
     "data": {
      "image/png": "[encoded data removed]",
      "text/plain": [
       "<Figure size 640x480 with 1 Axes>"
      ]
     },
     "metadata": {},
     "output_type": "display_data"
    }
   ],
   "source": [
    "# fazendo a mescla entre valores de venda e de compra\n",
    "plt.scatter(df_base['Valor de Venda'],df_base['Valor de Compra'])\n",
    "plt.show"
   ]
  },
  {
   "cell_type": "code",
   "execution_count": null,
   "id": "909dc804",
   "metadata": {},
   "outputs": [],
   "source": [
    "# agrupando o valor de venda com estado\n",
    "df_gasolina_media_est = df_gasolina.groupby(['Estado-Sigla'])['Valor de Venda'].sum().reset_index()\n",
    "df_gasolina_media_est= df_gasolina_media_est.sort_values(by='Valor de Venda',ascending= False)\n",
    "df_gasolina_media_est"
   ]
  },
  {
   "cell_type": "code",
   "execution_count": null,
   "id": "acf1d8c0",
   "metadata": {},
   "outputs": [],
   "source": [
    "df_gasolina_media_est_plot = df_gasolina_media_est.head(10)  # Selecionando os 10 primeiros estados com mais vendas\n",
    "df_gasolina_media_est_plot.plot(kind = 'bar', x='Estado',y='Valor de Venda')\n",
    "plt.xlabel('Estado')\n",
    "plt.ylabel('Valor de Venda')\n",
    "plt.title('Preço da gasolina por Estado')\n",
    "plt.show()"
   ]
  }
 ],
 "metadata": {
  "kernelspec": {
   "display_name": "Python 3",
   "language": "python",
   "name": "python3"
  },
  "language_info": {
   "codemirror_mode": {
    "name": "ipython",
    "version": 3
   },
   "file_extension": ".py",
   "mimetype": "text/x-python",
   "name": "python",
   "nbconvert_exporter": "python",
   "pygments_lexer": "ipython3",
   "version": "3.11.9"
  }
 },
 "nbformat": 4,
 "nbformat_minor": 5
}
